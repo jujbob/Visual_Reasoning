{
 "cells": [
  {
   "cell_type": "code",
   "execution_count": 3,
   "id": "3c591373",
   "metadata": {
    "ExecuteTime": {
     "end_time": "2022-08-29T06:15:35.293409Z",
     "start_time": "2022-08-29T06:15:35.289243Z"
    }
   },
   "outputs": [],
   "source": [
    "import os\n",
    "os.environ[\"CUDA_DEVICE_ORDER\"]=\"PCI_BUS_ID\"   # see issue #152\n",
    "os.environ[\"CUDA_VISIBLE_DEVICES\"]=\"0\""
   ]
  },
  {
   "cell_type": "code",
   "execution_count": 6,
   "id": "270150c4",
   "metadata": {
    "ExecuteTime": {
     "end_time": "2022-08-29T06:25:47.994334Z",
     "start_time": "2022-08-29T06:25:47.740369Z"
    }
   },
   "outputs": [
    {
     "name": "stdout",
     "output_type": "stream",
     "text": [
      "/home/mjkim/VR\r\n"
     ]
    }
   ],
   "source": [
    "!pwd"
   ]
  },
  {
   "cell_type": "code",
   "execution_count": 4,
   "id": "0cf0901f",
   "metadata": {
    "ExecuteTime": {
     "end_time": "2022-08-29T06:15:35.981550Z",
     "start_time": "2022-08-29T06:15:35.975618Z"
    }
   },
   "outputs": [],
   "source": [
    "import pandas as pd\n",
    "import numpy as np\n",
    "import json\n",
    "import os\n",
    "import torch\n",
    "import torch.nn as nn\n",
    "import torch.optim as optim\n",
    "import torch.nn.functional as F\n",
    "import torchvision.transforms as transforms\n",
    "import torchvision\n",
    "import torch.optim as optim\n",
    "from sklearn.model_selection import train_test_split\n",
    "from tqdm import tqdm\n",
    "from PIL import Image\n",
    "from PIL import Image, ImageDraw\n",
    "import cv2\n",
    "import random\n",
    "\n",
    "import matplotlib\n",
    "import matplotlib.pyplot as plt"
   ]
  },
  {
   "cell_type": "code",
   "execution_count": 5,
   "id": "57b45d60",
   "metadata": {
    "ExecuteTime": {
     "end_time": "2022-08-29T06:15:38.494588Z",
     "start_time": "2022-08-29T06:15:38.015656Z"
    }
   },
   "outputs": [
    {
     "ename": "FileNotFoundError",
     "evalue": "[Errno 2] No such file or directory: './data/category_1/'",
     "output_type": "error",
     "traceback": [
      "\u001b[0;31m---------------------------------------------------------------------------\u001b[0m",
      "\u001b[0;31mFileNotFoundError\u001b[0m                         Traceback (most recent call last)",
      "Input \u001b[0;32mIn [5]\u001b[0m, in \u001b[0;36m<cell line: 3>\u001b[0;34m()\u001b[0m\n\u001b[1;32m      1\u001b[0m \u001b[38;5;28;01mimport\u001b[39;00m \u001b[38;5;21;01mos\u001b[39;00m\n\u001b[1;32m      2\u001b[0m os\u001b[38;5;241m.\u001b[39mchdir(\u001b[38;5;124mf\u001b[39m\u001b[38;5;124m'\u001b[39m\u001b[38;5;124m/home/mjkim/VR/\u001b[39m\u001b[38;5;124m'\u001b[39m)\n\u001b[0;32m----> 3\u001b[0m folder_name \u001b[38;5;241m=\u001b[39m \u001b[43mos\u001b[49m\u001b[38;5;241;43m.\u001b[39;49m\u001b[43mlistdir\u001b[49m\u001b[43m(\u001b[49m\u001b[38;5;124;43m\"\u001b[39;49m\u001b[38;5;124;43m./data/category_1/\u001b[39;49m\u001b[38;5;124;43m\"\u001b[39;49m\u001b[43m)\u001b[49m[\u001b[38;5;241m9\u001b[39m]\n\u001b[1;32m      4\u001b[0m os\u001b[38;5;241m.\u001b[39mchdir(\u001b[38;5;124mf\u001b[39m\u001b[38;5;124m'\u001b[39m\u001b[38;5;124m/home/mjkim/VR/data/category_1/\u001b[39m\u001b[38;5;132;01m{\u001b[39;00mfolder_name\u001b[38;5;132;01m}\u001b[39;00m\u001b[38;5;124m'\u001b[39m)\n\u001b[1;32m      6\u001b[0m file_list \u001b[38;5;241m=\u001b[39m os\u001b[38;5;241m.\u001b[39mlistdir(\u001b[38;5;124mf\u001b[39m\u001b[38;5;124m\"\u001b[39m\u001b[38;5;124m./\u001b[39m\u001b[38;5;124m\"\u001b[39m)\n",
      "\u001b[0;31mFileNotFoundError\u001b[0m: [Errno 2] No such file or directory: './data/category_1/'"
     ]
    }
   ],
   "source": [
    "import os\n",
    "os.chdir(f'/home/ktlim/VR/')\n",
    "folder_name = os.listdir(\"./data/category_1/\")[9]\n",
    "os.chdir(f'/home/mjkim/VR/data/category_1/{folder_name}')\n",
    "\n",
    "file_list = os.listdir(f\"./\")\n",
    "for file_name in file_list:\n",
    "    if file_name.endswith('.json'):\n",
    "        json_file = file_name\n",
    "        file_list.remove(file_name)\n",
    "\"\"\"\n",
    "print(f'jpg_list : {file_list}')\n",
    "print(f'json_file : {json_file}')\n",
    "\"\"\"\n",
    "\n",
    "a_data = json.load(open(f'./{json_file}'))\n",
    "answer = a_data['Answers'][0]['images'][0]['image_url']\n",
    "\n",
    "file_list.remove(answer)\n",
    "\n",
    "print(f\"is correct? : {a_data['is_correct']}\")\n",
    "\n",
    "plt.figure(figsize=(16, 14))\n",
    "\n",
    "for i in range(len(file_list)):\n",
    "    question_img = Image.open(f'./{file_list[i]}')\n",
    "    plt.subplot(2, len(file_list), i+1)\n",
    "    plt.imshow(question_img)\n",
    "\n",
    "#plot answer image\n",
    "answer_img = Image.open(f'./{answer}')\n",
    "plt.subplot(2, len(file_list), int(len(file_list)*3/2)+1)\n",
    "plt.imshow(answer_img)\n",
    "plt.show()"
   ]
  },
  {
   "cell_type": "code",
   "execution_count": 46,
   "id": "c2294c9f",
   "metadata": {},
   "outputs": [],
   "source": [
    "os.chdir(f'/home/mjkim/VR/')\n",
    "folder_name = sorted(os.listdir(\"./data/category_1/\"))\n",
    "\n",
    "question_img_1 = []\n",
    "question_img_2 = []\n",
    "question_img_3 = []\n",
    "answer_img_arr = []\n",
    "label = []\n",
    "\n",
    "for elements in folder_name:\n",
    "    file_list = os.listdir(f\"./data/category_1/{elements}\")\n",
    "    for file_name in file_list:\n",
    "        if file_name.endswith('.json'):\n",
    "            json_file = file_name\n",
    "            file_list.remove(file_name) \n",
    "    a_data = json.load(open(f'./data/category_1/{elements}/{json_file}'))\n",
    "    answer = a_data['Answers'][0]['images'][0]['image_url']\n",
    "    file_list.remove(answer)\n",
    "\n",
    "    label.append(a_data['is_correct'])\n",
    "    question_img_1.append(file_list[0])\n",
    "    question_img_2.append(file_list[1])\n",
    "    question_img_3.append(file_list[2])\n",
    "\n",
    "    answer_img_arr.append(answer)\n"
   ]
  },
  {
   "cell_type": "code",
   "execution_count": 47,
   "id": "c68fbdde",
   "metadata": {},
   "outputs": [
    {
     "data": {
      "text/html": [
       "<div>\n",
       "<style scoped>\n",
       "    .dataframe tbody tr th:only-of-type {\n",
       "        vertical-align: middle;\n",
       "    }\n",
       "\n",
       "    .dataframe tbody tr th {\n",
       "        vertical-align: top;\n",
       "    }\n",
       "\n",
       "    .dataframe thead th {\n",
       "        text-align: right;\n",
       "    }\n",
       "</style>\n",
       "<table border=\"1\" class=\"dataframe\">\n",
       "  <thead>\n",
       "    <tr style=\"text-align: right;\">\n",
       "      <th></th>\n",
       "      <th>folder_name</th>\n",
       "      <th>img_1</th>\n",
       "      <th>img_2</th>\n",
       "      <th>img_3</th>\n",
       "      <th>answer_img</th>\n",
       "      <th>label</th>\n",
       "    </tr>\n",
       "  </thead>\n",
       "  <tbody>\n",
       "    <tr>\n",
       "      <th>0</th>\n",
       "      <td>006005</td>\n",
       "      <td>c6ddd938c0d24475ba9c2cf36073469f.jpg</td>\n",
       "      <td>e243e7f81cad45e69ef756724ea925c8.jpg</td>\n",
       "      <td>5f4d41b00f4c4041ac8a1b62a284099e.jpg</td>\n",
       "      <td>ab6f9a5b57334c5d9d16cb609f33a092.jpg</td>\n",
       "      <td>False</td>\n",
       "    </tr>\n",
       "    <tr>\n",
       "      <th>1</th>\n",
       "      <td>006011</td>\n",
       "      <td>b71eb86041594cd6b97776d64ca2884c.jpg</td>\n",
       "      <td>461b71553a64449faabd1a0cc88cc115.jpg</td>\n",
       "      <td>bcc661e30e454b878ec53577fd57a692.jpg</td>\n",
       "      <td>5a8676d4cb5e449dbcf1f938f8d6d2cf.jpg</td>\n",
       "      <td>False</td>\n",
       "    </tr>\n",
       "    <tr>\n",
       "      <th>2</th>\n",
       "      <td>006012</td>\n",
       "      <td>bbe9a0bd96a44ac3abe172483ef14289.jpg</td>\n",
       "      <td>041dcc3522d243cf93a53b11707fe1fa.jpg</td>\n",
       "      <td>a7fdbb52272b4a3983298dc82be897ce.jpg</td>\n",
       "      <td>f51cdebbf4664226b57747cbd1519a8e.jpg</td>\n",
       "      <td>True</td>\n",
       "    </tr>\n",
       "    <tr>\n",
       "      <th>3</th>\n",
       "      <td>006013</td>\n",
       "      <td>c97cfe6bb53f42ddbcc5e28e035d879d.jpg</td>\n",
       "      <td>c6dd72e0ebca431792bb4e93dd131826.jpg</td>\n",
       "      <td>a25d67c834f341b79573bb44848a6a94.jpg</td>\n",
       "      <td>045e18ed5e02444a8405dd1306ff859a.jpg</td>\n",
       "      <td>False</td>\n",
       "    </tr>\n",
       "    <tr>\n",
       "      <th>4</th>\n",
       "      <td>006015</td>\n",
       "      <td>d346ff957f9e41d9b5974fbbbda61507.jpg</td>\n",
       "      <td>0290379e5aed407b802f2d32e3ff2794.jpg</td>\n",
       "      <td>3d117f63b71e48c0a97709082e1c6523.jpg</td>\n",
       "      <td>01580ccca1b346b9b13dabfc5e8f4695.jpg</td>\n",
       "      <td>True</td>\n",
       "    </tr>\n",
       "    <tr>\n",
       "      <th>...</th>\n",
       "      <td>...</td>\n",
       "      <td>...</td>\n",
       "      <td>...</td>\n",
       "      <td>...</td>\n",
       "      <td>...</td>\n",
       "      <td>...</td>\n",
       "    </tr>\n",
       "    <tr>\n",
       "      <th>10727</th>\n",
       "      <td>251996</td>\n",
       "      <td>0a4af86c5cba43d99e02579093360e05.jpg</td>\n",
       "      <td>cff9d174bbd448688200a167c6f615ff.jpg</td>\n",
       "      <td>ff9177e9de5f4fdba0ae265c70e3760d.jpg</td>\n",
       "      <td>a9b60400956c4d2e942831c6f57900aa.jpg</td>\n",
       "      <td>True</td>\n",
       "    </tr>\n",
       "    <tr>\n",
       "      <th>10728</th>\n",
       "      <td>252455</td>\n",
       "      <td>d7b07a4e2bcb46fd98c9502dad29603a.jpg</td>\n",
       "      <td>a0b38953132749129b06f31b56a53c70.jpg</td>\n",
       "      <td>4e11fa25102248788492e2ddfc2059ad.jpg</td>\n",
       "      <td>89b82c1231f04d648eea5c57f1a870f1.jpg</td>\n",
       "      <td>True</td>\n",
       "    </tr>\n",
       "    <tr>\n",
       "      <th>10729</th>\n",
       "      <td>252809</td>\n",
       "      <td>da63b6d67d5943f49431f58448b9b55b.jpg</td>\n",
       "      <td>c5901920f8d44ee7919951b8554ba04a.jpg</td>\n",
       "      <td>20dc9f2795f641f58e40552798c44906.jpg</td>\n",
       "      <td>269f66606519475f825799fc14a9e4e4.jpg</td>\n",
       "      <td>True</td>\n",
       "    </tr>\n",
       "    <tr>\n",
       "      <th>10730</th>\n",
       "      <td>252879</td>\n",
       "      <td>30eb8638c67740c6a7452a7c21470bf9.jpg</td>\n",
       "      <td>6ff6016a1de143b78491670775b99aa7.jpg</td>\n",
       "      <td>8269bb66fa3e477abd9f26d1944560b7.jpg</td>\n",
       "      <td>99671d1742ed4860b1329c3b633114d5.jpg</td>\n",
       "      <td>True</td>\n",
       "    </tr>\n",
       "    <tr>\n",
       "      <th>10731</th>\n",
       "      <td>252893</td>\n",
       "      <td>3503dde2f2414c9ea4d5a5be43d7c53a.jpg</td>\n",
       "      <td>a34357a757d041809509390e8c95ba31.jpg</td>\n",
       "      <td>da80674462d64766abfac4de49d104a8.jpg</td>\n",
       "      <td>26f2152680c844eda768a84c290ce446.jpg</td>\n",
       "      <td>True</td>\n",
       "    </tr>\n",
       "  </tbody>\n",
       "</table>\n",
       "<p>10732 rows × 6 columns</p>\n",
       "</div>"
      ],
      "text/plain": [
       "      folder_name                                 img_1  \\\n",
       "0          006005  c6ddd938c0d24475ba9c2cf36073469f.jpg   \n",
       "1          006011  b71eb86041594cd6b97776d64ca2884c.jpg   \n",
       "2          006012  bbe9a0bd96a44ac3abe172483ef14289.jpg   \n",
       "3          006013  c97cfe6bb53f42ddbcc5e28e035d879d.jpg   \n",
       "4          006015  d346ff957f9e41d9b5974fbbbda61507.jpg   \n",
       "...           ...                                   ...   \n",
       "10727      251996  0a4af86c5cba43d99e02579093360e05.jpg   \n",
       "10728      252455  d7b07a4e2bcb46fd98c9502dad29603a.jpg   \n",
       "10729      252809  da63b6d67d5943f49431f58448b9b55b.jpg   \n",
       "10730      252879  30eb8638c67740c6a7452a7c21470bf9.jpg   \n",
       "10731      252893  3503dde2f2414c9ea4d5a5be43d7c53a.jpg   \n",
       "\n",
       "                                      img_2  \\\n",
       "0      e243e7f81cad45e69ef756724ea925c8.jpg   \n",
       "1      461b71553a64449faabd1a0cc88cc115.jpg   \n",
       "2      041dcc3522d243cf93a53b11707fe1fa.jpg   \n",
       "3      c6dd72e0ebca431792bb4e93dd131826.jpg   \n",
       "4      0290379e5aed407b802f2d32e3ff2794.jpg   \n",
       "...                                     ...   \n",
       "10727  cff9d174bbd448688200a167c6f615ff.jpg   \n",
       "10728  a0b38953132749129b06f31b56a53c70.jpg   \n",
       "10729  c5901920f8d44ee7919951b8554ba04a.jpg   \n",
       "10730  6ff6016a1de143b78491670775b99aa7.jpg   \n",
       "10731  a34357a757d041809509390e8c95ba31.jpg   \n",
       "\n",
       "                                      img_3  \\\n",
       "0      5f4d41b00f4c4041ac8a1b62a284099e.jpg   \n",
       "1      bcc661e30e454b878ec53577fd57a692.jpg   \n",
       "2      a7fdbb52272b4a3983298dc82be897ce.jpg   \n",
       "3      a25d67c834f341b79573bb44848a6a94.jpg   \n",
       "4      3d117f63b71e48c0a97709082e1c6523.jpg   \n",
       "...                                     ...   \n",
       "10727  ff9177e9de5f4fdba0ae265c70e3760d.jpg   \n",
       "10728  4e11fa25102248788492e2ddfc2059ad.jpg   \n",
       "10729  20dc9f2795f641f58e40552798c44906.jpg   \n",
       "10730  8269bb66fa3e477abd9f26d1944560b7.jpg   \n",
       "10731  da80674462d64766abfac4de49d104a8.jpg   \n",
       "\n",
       "                                 answer_img  label  \n",
       "0      ab6f9a5b57334c5d9d16cb609f33a092.jpg  False  \n",
       "1      5a8676d4cb5e449dbcf1f938f8d6d2cf.jpg  False  \n",
       "2      f51cdebbf4664226b57747cbd1519a8e.jpg   True  \n",
       "3      045e18ed5e02444a8405dd1306ff859a.jpg  False  \n",
       "4      01580ccca1b346b9b13dabfc5e8f4695.jpg   True  \n",
       "...                                     ...    ...  \n",
       "10727  a9b60400956c4d2e942831c6f57900aa.jpg   True  \n",
       "10728  89b82c1231f04d648eea5c57f1a870f1.jpg   True  \n",
       "10729  269f66606519475f825799fc14a9e4e4.jpg   True  \n",
       "10730  99671d1742ed4860b1329c3b633114d5.jpg   True  \n",
       "10731  26f2152680c844eda768a84c290ce446.jpg   True  \n",
       "\n",
       "[10732 rows x 6 columns]"
      ]
     },
     "execution_count": 47,
     "metadata": {},
     "output_type": "execute_result"
    }
   ],
   "source": [
    "df = pd.DataFrame(zip(folder_name, question_img_1,question_img_2, question_img_3, answer_img_arr, label), columns=['folder_name', 'img_1', 'img_2', 'img_3', 'answer_img', 'label'])\n",
    "df"
   ]
  },
  {
   "cell_type": "code",
   "execution_count": 48,
   "id": "ecb9930d",
   "metadata": {},
   "outputs": [
    {
     "data": {
      "text/plain": [
       "'c6ddd938c0d24475ba9c2cf36073469f.jpg'"
      ]
     },
     "execution_count": 48,
     "metadata": {},
     "output_type": "execute_result"
    }
   ],
   "source": [
    "sample = df.iloc[0]\n",
    "sample[1]"
   ]
  },
  {
   "cell_type": "code",
   "execution_count": 49,
   "id": "1d092326",
   "metadata": {},
   "outputs": [
    {
     "data": {
      "text/plain": [
       "0        False\n",
       "1        False\n",
       "2         True\n",
       "3        False\n",
       "4         True\n",
       "         ...  \n",
       "10727     True\n",
       "10728     True\n",
       "10729     True\n",
       "10730     True\n",
       "10731     True\n",
       "Name: label, Length: 10732, dtype: bool"
      ]
     },
     "execution_count": 49,
     "metadata": {},
     "output_type": "execute_result"
    }
   ],
   "source": [
    "batch = df\n",
    "\n",
    "target_a1 = batch[\"label\"], (batch[\"label\"] == 0)\n",
    "target_a1[0]\n"
   ]
  },
  {
   "cell_type": "code",
   "execution_count": 50,
   "id": "cb24b853",
   "metadata": {
    "ExecuteTime": {
     "end_time": "2022-07-30T07:51:40.176756Z",
     "start_time": "2022-07-30T07:51:40.164833Z"
    }
   },
   "outputs": [],
   "source": [
    "transform = transforms.Compose(\n",
    "    [\n",
    "        transforms.Resize((256, 256)),\n",
    "        transforms.RandomCrop((224, 224)),\n",
    "        transforms.ToTensor(),\n",
    "        transforms.Normalize([0.485, 0.456, 0.406], [0.229, 0.224, 0.225]),\n",
    "    ]\n",
    ")\n"
   ]
  },
  {
   "cell_type": "code",
   "execution_count": 51,
   "id": "551b382d",
   "metadata": {
    "ExecuteTime": {
     "end_time": "2022-07-30T07:48:08.458974Z",
     "start_time": "2022-07-30T07:48:08.452201Z"
    }
   },
   "outputs": [],
   "source": [
    "class Category1_Dataset(torch.utils.data.Dataset):\n",
    "    def __init__(self, df, config=None, transform=None):\n",
    "        self.df = df\n",
    "        self.config = config\n",
    "        self.transform = transform\n",
    "        \n",
    "        \n",
    "    def __len__(self):\n",
    "        return len(self.df)\n",
    "        \n",
    "    def __getitem__(self, idx):\n",
    "        sample = self.df.iloc[idx]\n",
    "        \n",
    "        folder = sample[0]+'/'\n",
    "\n",
    "        img_1_path = './data/category_1/'+folder+sample[1]\n",
    "        img_2_path = './data/category_1/'+folder+sample[2]\n",
    "        img_3_path = './data/category_1/'+folder+sample[3]\n",
    "\n",
    "        ans_img_path = './data/category_1/'+folder+sample[4]\n",
    "        label = sample[5]\n",
    "\n",
    "        \n",
    "        img_1_feature = Image.open(img_1_path).convert('RGB')\n",
    "        img_2_feature = Image.open(img_2_path).convert('RGB') \n",
    "        img_3_feature = Image.open(img_3_path).convert('RGB')  \n",
    "        img_ans_feature = Image.open(ans_img_path).convert('RGB')\n",
    "        \n",
    "        img_1_feature = self.transform(img_1_feature)  \n",
    "        img_2_feature = self.transform(img_2_feature)  \n",
    "        img_3_feature = self.transform(img_3_feature)  \n",
    "        img_ans_feature = self.transform(img_ans_feature)        \n",
    "        \n",
    "        return {\n",
    "            \"label\": label,\n",
    "            \"img_1\": img_1_feature,\n",
    "            \"img_2\": img_2_feature,\n",
    "            \"img_3\": img_3_feature,\n",
    "            \"answer\": img_ans_feature\n",
    "        }\n",
    "        \n",
    "    "
   ]
  },
  {
   "cell_type": "code",
   "execution_count": 52,
   "id": "b09f0fb4",
   "metadata": {
    "ExecuteTime": {
     "end_time": "2022-07-30T07:48:08.466914Z",
     "start_time": "2022-07-30T07:48:08.460444Z"
    }
   },
   "outputs": [],
   "source": [
    "def make_sequential(in_channels, out_channels, *args, **kwargs):\n",
    "    return nn.Sequential(nn.Conv2d(in_channels, out_channels, *args, **kwargs),\n",
    "           nn.BatchNorm2d(out_channels),\n",
    "           nn.ReLu(),\n",
    "           nn.MaxPool2d(*args, **kwargs))\n",
    "\n",
    "class VRCategory(nn.Module):\n",
    "    def __init__(self, config):\n",
    "        super(VRCategory, self).__init__()\n",
    "        \n",
    "        self.config = config\n",
    "        self.backborne = torchvision.models.resnet50(pretrained=True)\n",
    "        self.backborne.fc = nn.Linear(self.backborne.fc.in_features, self.config.input_dim)\n",
    "        self.fc = nn.Sequential(\n",
    "                    nn.Linear(self.config.input_dim*4, self.config.mlp_hidden),\n",
    "                    nn.ReLU(),\n",
    "                    nn.Dropout(0.2),\n",
    "                    nn.Linear(self.config.mlp_hidden, 2), \n",
    "        )\n",
    "\n",
    "    def forward(self, samples):\n",
    "        \n",
    "        #Question Image Feature\n",
    "        q_img1 = self.backborne(samples[\"img_1\"])\n",
    "        q_img2 = self.backborne(samples[\"img_2\"])\n",
    "        q_img3 = self.backborne(samples[\"img_3\"])\n",
    "\n",
    "        \n",
    "        #Answer1 Image Feature\n",
    "        a_img = self.backborne(samples[\"answer\"])\n",
    "\n",
    "        \n",
    "        \n",
    "        q_a1 = torch.cat([q_img1, q_img2, q_img3, a_img], axis=1)\n",
    "        \n",
    "        q_a1_logit = self.fc(q_a1)\n",
    "        \n",
    "        return {\n",
    "            \"q_a1_logit\": F.log_softmax(q_a1_logit, dim=1),\n",
    "        }\n"
   ]
  },
  {
   "cell_type": "code",
   "execution_count": 53,
   "id": "9846e906",
   "metadata": {
    "ExecuteTime": {
     "end_time": "2022-07-30T07:48:08.474732Z",
     "start_time": "2022-07-30T07:48:08.468201Z"
    }
   },
   "outputs": [],
   "source": [
    "def train_fn(model, train_loader, optimizer, loss_fn, config):\n",
    "    \n",
    "    total_count_correct = 0\n",
    "    total_num_example = 0\n",
    "    total_loss = []\n",
    "    \n",
    "    model.train()\n",
    "    device = \"cuda\"\n",
    "    \n",
    "    for batch in tqdm(train_loader):          \n",
    "        \n",
    "        #Question Image Feature\n",
    "        batch[\"img_1\"] = batch[\"img_1\"].to(device)\n",
    "        batch[\"img_2\"] = batch[\"img_2\"].to(device)\n",
    "        batch[\"img_3\"] = batch[\"img_3\"].to(device)\n",
    "\n",
    "        \n",
    "        #Answer Image Feature\n",
    "        batch[\"answer\"] = batch[\"answer\"].to(device)\n",
    "\n",
    "        batch[\"label\"] = batch[\"label\"].to(device)\n",
    "        \n",
    "        logits = model(batch)\n",
    "\n",
    "        target = batch[\"label\"].long().to(device)\n",
    "        loss = loss_fn(logits[\"q_a1_logit\"].squeeze(), target)\n",
    "        \n",
    "        total_loss.append(loss.item())\n",
    "        \n",
    "        predicted = logits[\"q_a1_logit\"].argmax(dim=1, keepdim=True).squeeze()\n",
    "        total_count_correct = total_count_correct + torch.sum(predicted == target).item()\n",
    "        total_num_example = total_num_example + target.size(0)\n",
    "\n",
    "\n",
    "        '''\n",
    "        print(predicted_a1)\n",
    "        print(target_a1)\n",
    "        print(predicted_a1 == target_a1)\n",
    "        print(predicted_a2)\n",
    "        print(target_a2)\n",
    "        print(predicted_a2 == target_a2)\n",
    "        print(\"total_count_correct\", total_count_correct)\n",
    "        print(\"total_num_example\", total_num_example)\n",
    "        '''\n",
    "        optimizer.zero_grad()\n",
    "        loss.backward()\n",
    "        optimizer.step()\n",
    "        \n",
    "    print(\"TRAIN_LOSS:\", str(sum(total_loss)/total_num_example) + \" TRAIN_Accuracy: \" + str(total_count_correct/total_num_example) )\n"
   ]
  },
  {
   "cell_type": "code",
   "execution_count": 54,
   "id": "dc0aa6c0",
   "metadata": {
    "ExecuteTime": {
     "end_time": "2022-07-30T07:48:08.484603Z",
     "start_time": "2022-07-30T07:48:08.476516Z"
    }
   },
   "outputs": [],
   "source": [
    "def valid_fn(model, valid_loader, config):\n",
    "    \n",
    "    total_count_correct = 0\n",
    "    total_num_example = 0\n",
    "    device = \"cuda\"\n",
    "    \n",
    "    model.eval()\n",
    "    with torch.no_grad():\n",
    "        for batch in tqdm(valid_loader):          \n",
    "\n",
    "            #Question Image Feature\n",
    "            batch[\"img_1\"] = batch[\"img_1\"].to(device)\n",
    "            batch[\"img_2\"] = batch[\"img_2\"].to(device)\n",
    "            batch[\"img_3\"] = batch[\"img_3\"].to(device)\n",
    "\n",
    "            \n",
    "            #Answer Image Feature\n",
    "            batch[\"answer\"] = batch[\"answer\"].to(device)\n",
    "\n",
    "            batch[\"label\"] = batch[\"label\"].to(device)\n",
    "            logits = model(batch)\n",
    "\n",
    "            # target_a1 = batch[\"target\"].long().to(device), (batch[\"target\"] == 0).type(torch.long).to(device)\n",
    "            target = batch[\"label\"].long().to(device)\n",
    "\n",
    "            predicted_a1 = logits[\"q_a1_logit\"].argmax(dim=1, keepdim=True).squeeze()\n",
    "            total_count_correct = total_count_correct + torch.sum(predicted_a1 == target).item()\n",
    "            total_num_example = total_num_example + target.size(0)\n",
    "\n",
    "#             predicted_a2 = logits[\"q_a2_logit\"].argmax(dim=1, keepdim=True).squeeze()\n",
    "#             total_count_correct = total_count_correct + torch.sum(predicted_a2 == target_a2).item()\n",
    "#             total_num_example = total_num_example + target_a2.size(0)\n",
    "\n",
    "            '''\n",
    "            print(predicted_a1)\n",
    "            print(target_a1)\n",
    "            print(predicted_a1 == target_a1)\n",
    "            print(predicted_a2)\n",
    "            print(target_a2)\n",
    "            print(predicted_a2 == target_a2)\n",
    "            print(\"total_count_correct\", total_count_correct)\n",
    "            print(\"total_num_example\", total_num_example)\n",
    "            '''\n",
    "\n",
    "    print(\"Valid Accuracy: \" + str(total_count_correct/total_num_example) )\n"
   ]
  },
  {
   "cell_type": "code",
   "execution_count": 55,
   "id": "eb21e529",
   "metadata": {},
   "outputs": [],
   "source": [
    "class Config:\n",
    "    def __init__(self, args=None):\n",
    "        self.device = \"cuda\" if torch.cuda.is_available() else \"cpu\"\n",
    "        self.distributed = False\n",
    "        self.gpu_id = \"0,1\"\n",
    "        self.input_dim = 512\n",
    "        self.mlp_hidden = 1024\n",
    "\n",
    "config = Config()"
   ]
  },
  {
   "cell_type": "code",
   "execution_count": 56,
   "id": "570f86ed",
   "metadata": {
    "ExecuteTime": {
     "end_time": "2022-07-30T07:54:24.260737Z",
     "start_time": "2022-07-30T07:51:44.462982Z"
    }
   },
   "outputs": [],
   "source": [
    "train_df, valid_df = train_test_split(df)\n",
    "\n",
    "train_datasets = Category1_Dataset(train_df, transform=transform)\n",
    "train_loader = torch.utils.data.DataLoader(train_datasets, batch_size=64)\n",
    "\n",
    "valid_datasets = Category1_Dataset(valid_df, transform=transform)\n",
    "valid_loader = torch.utils.data.DataLoader(valid_datasets, batch_size=64)\n",
    "\n",
    "model = VRCategory(config)\n",
    "#vrs1_model = torch.nn.DataParallel(vrs1_model)\n",
    "model = model.to(config.device)\n",
    "if config.distributed:\n",
    "    #vrs1_model = torch.nn.parallel.DistributedDataParallel(model, device_ids=[config.gpu])    \n",
    "    model = torch.nn.parallel.DistributedDataParallel(model)    \n",
    "\n",
    "optimizer = torch.optim.Adam(model.parameters(), lr=0.0001)\n",
    "loss_fn = nn.NLLLoss(reduction=\"sum\")\n"
   ]
  },
  {
   "cell_type": "code",
   "execution_count": 57,
   "id": "6eadb0a1",
   "metadata": {},
   "outputs": [
    {
     "name": "stderr",
     "output_type": "stream",
     "text": [
      "100%|██████████| 126/126 [05:19<00:00,  2.54s/it]"
     ]
    },
    {
     "name": "stdout",
     "output_type": "stream",
     "text": [
      "TRAIN_LOSS: 0.2694695863476124 TRAIN_Accuracy: 0.8864455211827557\n"
     ]
    },
    {
     "name": "stderr",
     "output_type": "stream",
     "text": [
      "\n"
     ]
    }
   ],
   "source": [
    "train_fn(model, train_loader=train_loader, optimizer=optimizer, loss_fn=loss_fn, config=config)"
   ]
  },
  {
   "cell_type": "code",
   "execution_count": 58,
   "id": "854331ba",
   "metadata": {},
   "outputs": [
    {
     "name": "stderr",
     "output_type": "stream",
     "text": [
      "100%|██████████| 42/42 [01:48<00:00,  2.59s/it]"
     ]
    },
    {
     "name": "stdout",
     "output_type": "stream",
     "text": [
      "Valid Accuracy: 0.8643309727916512\n"
     ]
    },
    {
     "name": "stderr",
     "output_type": "stream",
     "text": [
      "\n"
     ]
    }
   ],
   "source": [
    "valid_fn(model, valid_loader=valid_loader, config=config)"
   ]
  }
 ],
 "metadata": {
  "kernelspec": {
   "display_name": "Python 3 (ipykernel)",
   "language": "python",
   "name": "python3"
  },
  "language_info": {
   "codemirror_mode": {
    "name": "ipython",
    "version": 3
   },
   "file_extension": ".py",
   "mimetype": "text/x-python",
   "name": "python",
   "nbconvert_exporter": "python",
   "pygments_lexer": "ipython3",
   "version": "3.10.2"
  },
  "latex_envs": {
   "LaTeX_envs_menu_present": true,
   "autoclose": false,
   "autocomplete": true,
   "bibliofile": "biblio.bib",
   "cite_by": "apalike",
   "current_citInitial": 1,
   "eqLabelWithNumbers": true,
   "eqNumInitial": 1,
   "hotkeys": {
    "equation": "Ctrl-E",
    "itemize": "Ctrl-I"
   },
   "labels_anchors": false,
   "latex_user_defs": false,
   "report_style_numbering": false,
   "user_envs_cfg": false
  },
  "varInspector": {
   "cols": {
    "lenName": 16,
    "lenType": 16,
    "lenVar": 40
   },
   "kernels_config": {
    "python": {
     "delete_cmd_postfix": "",
     "delete_cmd_prefix": "del ",
     "library": "var_list.py",
     "varRefreshCmd": "print(var_dic_list())"
    },
    "r": {
     "delete_cmd_postfix": ") ",
     "delete_cmd_prefix": "rm(",
     "library": "var_list.r",
     "varRefreshCmd": "cat(var_dic_list()) "
    }
   },
   "types_to_exclude": [
    "module",
    "function",
    "builtin_function_or_method",
    "instance",
    "_Feature"
   ],
   "window_display": false
  },
  "vscode": {
   "interpreter": {
    "hash": "949777d72b0d2535278d3dc13498b2535136f6dfe0678499012e853ee9abcab1"
   }
  }
 },
 "nbformat": 4,
 "nbformat_minor": 5
}
